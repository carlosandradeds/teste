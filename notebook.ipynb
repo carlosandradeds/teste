{
 "cells": [
  {
   "cell_type": "code",
   "execution_count": 48,
   "metadata": {},
   "outputs": [
    {
     "name": "stdout",
     "output_type": "stream",
     "text": [
      "<Element '{http://www.abrasf.org.br/ABRASF/arquivos/nfse.xsd}ConsultarNfseResposta' at 0x7f887cfe3a10>\n"
     ]
    }
   ],
   "source": [
    "import xml.etree.ElementTree as ET\n",
    "\n",
    "# Ler o arquivo XML\n",
    "tree = ET.parse('NF.xml')\n",
    "root = tree.getroot()\n",
    "print(root)"
   ]
  },
  {
   "cell_type": "code",
   "execution_count": 49,
   "metadata": {},
   "outputs": [],
   "source": [
    "# Encontrar todos os elementos CompNfse\n",
    "comp_nfse_elements = root.findall(\".//{http://www.abrasf.org.br/ABRASF/arquivos/nfse.xsd}CompNfse\")"
   ]
  },
  {
   "cell_type": "code",
   "execution_count": 50,
   "metadata": {},
   "outputs": [],
   "source": [
    "xml_tree = ET.Element(root.tag, root.attrib)\n",
    "for comp_nfse in reversed(comp_nfse_elements):\n",
    "    xml_tree.append(comp_nfse)"
   ]
  },
  {
   "cell_type": "code",
   "execution_count": 53,
   "metadata": {},
   "outputs": [
    {
     "data": {
      "text/plain": [
       "[<Element '{http://www.abrasf.org.br/ABRASF/arquivos/nfse.xsd}CompNfse' at 0x7f887cfe3970>,\n",
       " <Element '{http://www.abrasf.org.br/ABRASF/arquivos/nfse.xsd}CompNfse' at 0x7f887cfeda30>]"
      ]
     },
     "execution_count": 53,
     "metadata": {},
     "output_type": "execute_result"
    }
   ],
   "source": [
    "comp_nfse_elements"
   ]
  },
  {
   "cell_type": "code",
   "execution_count": 54,
   "metadata": {},
   "outputs": [
    {
     "name": "stdout",
     "output_type": "stream",
     "text": [
      "<Element '{http://www.abrasf.org.br/ABRASF/arquivos/nfse.xsd}CompNfse' at 0x7f887cfeda30>\n",
      "<Element '{http://www.abrasf.org.br/ABRASF/arquivos/nfse.xsd}CompNfse' at 0x7f887cfe3970>\n"
     ]
    }
   ],
   "source": [
    "for i in reversed(comp_nfse_elements):\n",
    "    print(i)"
   ]
  },
  {
   "cell_type": "code",
   "execution_count": 46,
   "metadata": {},
   "outputs": [],
   "source": [
    "# Criar uma nova árvore com o novo_root\n",
    "tree = ET.ElementTree(xml_tree)"
   ]
  },
  {
   "cell_type": "code",
   "execution_count": 47,
   "metadata": {},
   "outputs": [],
   "source": [
    "# Salvar o novo XML em um arquivo\n",
    "tree.write('novo_arquivo.xml', encoding='utf-8')"
   ]
  },
  {
   "cell_type": "code",
   "execution_count": null,
   "metadata": {},
   "outputs": [],
   "source": []
  }
 ],
 "metadata": {
  "kernelspec": {
   "display_name": "Python 3",
   "language": "python",
   "name": "python3"
  },
  "language_info": {
   "codemirror_mode": {
    "name": "ipython",
    "version": 3
   },
   "file_extension": ".py",
   "mimetype": "text/x-python",
   "name": "python",
   "nbconvert_exporter": "python",
   "pygments_lexer": "ipython3",
   "version": "3.11.6"
  }
 },
 "nbformat": 4,
 "nbformat_minor": 2
}
